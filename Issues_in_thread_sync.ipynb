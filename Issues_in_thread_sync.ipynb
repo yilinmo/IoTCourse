{
 "cells": [
  {
   "cell_type": "markdown",
   "metadata": {},
   "source": [
    "# Issues in thread synchronization\n",
    "\n",
    "We might encounter issues while implementing concurrent programming or applying synchronizing primitives. In this section, we will discuss two major issues. The issues are:\n",
    "\n",
    "- Deadlock\n",
    "- Race condition\n"
   ]
  },
  {
   "cell_type": "markdown",
   "metadata": {},
   "source": [
    "## Race condition\n",
    "\n",
    "This is one of the major issues in concurrent programming. Concurrent access to shared resources can lead to race condition. A race condition may be defined as the occurring of a condition when two or more threads can access shared data and then try to change its value at the same time. Due to this, the values of variables may be unpredictable and vary depending on the timings of context switches of the processes."
   ]
  },
  {
   "cell_type": "markdown",
   "metadata": {},
   "source": [
    "### Example\n",
    "\n",
    "Consider this example to understand the concept of race condition"
   ]
  },
  {
   "cell_type": "markdown",
   "metadata": {},
   "source": [
    "**Step 1** − In this step, we need to import threading module −"
   ]
  },
  {
   "cell_type": "code",
   "execution_count": 1,
   "metadata": {},
   "outputs": [],
   "source": [
    "import threading"
   ]
  },
  {
   "cell_type": "markdown",
   "metadata": {},
   "source": [
    "**Step 2** − Now, define a global variable, say x, along with its value as 0 −"
   ]
  },
  {
   "cell_type": "code",
   "execution_count": 2,
   "metadata": {},
   "outputs": [],
   "source": [
    "x = 0"
   ]
  },
  {
   "cell_type": "markdown",
   "metadata": {},
   "source": [
    "**Step 3** − Now, we need to define the `increment_global()` function, which will do the increment by 1 in this global function x −"
   ]
  },
  {
   "cell_type": "code",
   "execution_count": 3,
   "metadata": {},
   "outputs": [],
   "source": [
    "def increment_global():\n",
    "\n",
    "   global x\n",
    "   x += 1"
   ]
  },
  {
   "cell_type": "markdown",
   "metadata": {},
   "source": [
    "**Step 4** − In this step, we will define the `taskofThread()` function, which will call the `increment_global()` function for a specified number of times; for our example it is 50000 times −"
   ]
  },
  {
   "cell_type": "code",
   "execution_count": 4,
   "metadata": {},
   "outputs": [],
   "source": [
    "def taskofThread():\n",
    "\n",
    "   for _ in range(500000):\n",
    "      increment_global()"
   ]
  },
  {
   "cell_type": "markdown",
   "metadata": {},
   "source": [
    "**Step 5** − Now, define the `main()` function in which threads t1 and t2 are created. Both will be started with the help of the `start()` function and wait until they finish their jobs with the help of `join()` function.\n",
    "\n"
   ]
  },
  {
   "cell_type": "code",
   "execution_count": 5,
   "metadata": {},
   "outputs": [],
   "source": [
    "def main():\n",
    "   global x\n",
    "   x = 0\n",
    "   \n",
    "   t1 = threading.Thread(target= taskofThread)\n",
    "   t2 = threading.Thread(target= taskofThread)\n",
    "\n",
    "   t1.start()\n",
    "   t2.start()\n",
    "\n",
    "   t1.join()\n",
    "   t2.join()"
   ]
  },
  {
   "cell_type": "markdown",
   "metadata": {},
   "source": [
    "**Step 6** − Now, we need to give the range as in for how many iterations we want to call the `main()` function. Here, we are calling it for 5 times.\n",
    "\n",
    "In the output shown below, we can see the effect of race condition as the value of x after each iteration is expected 1000000. However, there is lots of variation in the value. This is due to the concurrent access of threads to the shared global variable x."
   ]
  },
  {
   "cell_type": "code",
   "execution_count": 6,
   "metadata": {},
   "outputs": [
    {
     "name": "stdout",
     "output_type": "stream",
     "text": [
      "x = 643217 after Iteration 0\n",
      "x = 854237 after Iteration 1\n",
      "x = 887859 after Iteration 2\n",
      "x = 918151 after Iteration 3\n",
      "x = 844815 after Iteration 4\n"
     ]
    }
   ],
   "source": [
    "if __name__ == \"__main__\":\n",
    "   for i in range(5):\n",
    "      main()\n",
    "      print(\"x = {1} after Iteration {0}\".format(i,x))"
   ]
  },
  {
   "cell_type": "markdown",
   "metadata": {},
   "source": [
    "### Dealing with race condition using locks\n",
    "\n",
    "As we have seen the effect of race condition in the above program, we need a synchronization tool, which can deal with race condition between multiple threads. In Python, the `<threading>` module provides Lock class to deal with race condition. Further, the Lock class provides different methods with the help of which we can handle race condition between multiple threads. The methods are described below −"
   ]
  },
  {
   "cell_type": "markdown",
   "metadata": {},
   "source": [
    "#### `acquire()` method\n",
    "\n",
    "This method is used to acquire, i.e., blocking a lock. A lock can be blocking or non-blocking depending upon the following true or false value −\n",
    "\n",
    "- **With value set to True** − If the `acquire()` method is invoked with True, which is the default argument, then the thread execution is blocked until the lock is unlocked.\n",
    "\n",
    "- **With value set to False** − If the `acquire()` method is invoked with False, which is not the default argument, then the thread execution is not blocked until it is set to true, i.e., until it is locked.\n",
    "\n",
    "#### `release()` method\n",
    "\n",
    "This method is used to release a lock. Following are a few important tasks related to this method −\n",
    "\n",
    "- If a lock is locked, then the `release()` method would unlock it. Its job is to allow exactly one thread to proceed if more than one threads are blocked and waiting for the lock to become unlocked.\n",
    "\n",
    "- It will raise a `ThreadError` if lock is already unlocked.\n",
    "\n",
    "Now, we can rewrite the above program with the lock class and its methods to avoid the race condition. We need to define the `taskofThread()` method with lock argument and then need to use the `acquire()` and `release()` methods for blocking and non-blocking of locks to avoid race condition."
   ]
  },
  {
   "cell_type": "markdown",
   "metadata": {},
   "source": [
    "#### Example\n",
    "\n",
    "Following is example of python program to understand the concept of locks for dealing with race condition −"
   ]
  },
  {
   "cell_type": "code",
   "execution_count": 7,
   "metadata": {},
   "outputs": [
    {
     "name": "stdout",
     "output_type": "stream",
     "text": [
      "x = 1000000 after Iteration 0\n",
      "x = 1000000 after Iteration 1\n",
      "x = 1000000 after Iteration 2\n",
      "x = 1000000 after Iteration 3\n",
      "x = 1000000 after Iteration 4\n"
     ]
    }
   ],
   "source": [
    "import threading\n",
    "\n",
    "x = 0\n",
    "\n",
    "def increment_global():\n",
    "\n",
    "   global x\n",
    "   x += 1\n",
    "\n",
    "def taskofThread(lock):\n",
    "\n",
    "   for _ in range(500000):\n",
    "      lock.acquire()\n",
    "      increment_global()\n",
    "      lock.release()\n",
    "\n",
    "def main():\n",
    "   global x\n",
    "   x = 0\n",
    "\n",
    "   lock = threading.Lock()\n",
    "   t1 = threading.Thread(target = taskofThread, args = (lock,))\n",
    "   t2 = threading.Thread(target = taskofThread, args = (lock,))\n",
    "\n",
    "   t1.start()\n",
    "   t2.start()\n",
    "\n",
    "   t1.join()\n",
    "   t2.join()\n",
    "\n",
    "if __name__ == \"__main__\":\n",
    "   for i in range(5):\n",
    "      main()\n",
    "      print(\"x = {1} after Iteration {0}\".format(i,x))"
   ]
  },
  {
   "cell_type": "markdown",
   "metadata": {},
   "source": [
    "The output shows that the effect of race condition is neglected; as the value of x, after each & every iteration, is now 100000, which is as per the expectation of this program.\n",
    "\n"
   ]
  },
  {
   "cell_type": "markdown",
   "metadata": {},
   "source": [
    "## Deadlocks − The Dining Philosophers problem\n",
    "\n",
    "Deadlock is a troublesome issue one can face while designing the concurrent systems. We can illustrate this issue with the help of the dining philosopher problem as follows −\n",
    "\n",
    "Edsger Dijkstra originally introduced the dining philosopher problem, one of the famous illustrations of one of the biggest problem of concurrent system called deadlock.\n",
    "\n",
    "In this problem, there are five famous philosophers sitting at a round table eating some food from their bowls. There are five forks that can be used by the five philosophers to eat their food. However, the philosophers decide to use two forks at the same time to eat their food.\n",
    "\n",
    "Now, there are two main conditions for the philosophers. First, each of the philosophers can be either in eating or in thinking state and second, they must first obtain both the forks, i.e., left and right. The issue arises when each of the five philosophers manages to pick the left fork at the same time. Now they all are waiting for the right fork to be free but they will never relinquish their fork until they have eaten their food and the right fork would never be available. Hence, there would be a deadlock state at the dinner table.\n",
    "\n",
    "### Deadlock in concurrent system\n",
    "\n",
    "Now if we see, the same issue can arise in our concurrent systems too. The forks in the above example would be the system resources and each philosopher can represent the process, which is competing to get the resources.\n",
    "\n",
    "### Solution with Python program\n",
    "\n",
    "The solution of this problem can be found by splitting the philosophers into two types – **greedy philosophers** and **generous philosophers**. Mainly a greedy philosopher will try to pick up the left fork and wait until it is there. He will then wait for the right fork to be there, pick it up, eat and then put it down. On the other hand, a generous philosopher will try to pick up the left fork and if it is not there, he will wait and try again after some time. If they get the left fork then they will try to get the right one. If they will get the right fork too then they will eat and release both the forks. However, if they will not get the right fork then they will release the left fork."
   ]
  },
  {
   "cell_type": "markdown",
   "metadata": {},
   "source": [
    "### Example\n",
    "\n",
    "The following Python program will help us find a solution to the dining philosopher problem.\n",
    "\n",
    "The program uses the concept of greedy and generous philosophers. The program has also used the `acquire()` and `release()` methods of the `Lock` class of the `<threading>` module. We can see the solution in the following output −"
   ]
  },
  {
   "cell_type": "code",
   "execution_count": 8,
   "metadata": {},
   "outputs": [
    {
     "name": "stdout",
     "output_type": "stream",
     "text": [
      "3rd is hungry.\n",
      "3rd starts eating \n",
      "5th is hungry.\n",
      "5th starts eating \n",
      "2nd is hungry.\n",
      "2nd swaps forks\n",
      "4th is hungry.\n",
      "1st is hungry.\n",
      "3rd finishes eating and now thinking.\n",
      "4th swaps forks\n",
      "2nd starts eating \n",
      "5th finishes eating and now thinking.\n",
      "1st swaps forks\n",
      "4th starts eating \n",
      "3rd is hungry.\n",
      "4th finishes eating and now thinking.\n",
      "2nd finishes eating and now thinking.\n",
      "1st starts eating 3rd starts eating \n",
      "\n",
      "3rd finishes eating and now thinking.\n",
      "1st finishes eating and now thinking.\n",
      "5th is hungry.\n",
      "5th starts eating \n",
      "4th is hungry.\n",
      "4th swaps forks\n",
      "3rd is hungry.\n",
      "3rd starts eating \n",
      " It is finishing.\n",
      "1st is hungry.\n",
      "2nd is hungry.\n",
      "3rd finishes eating and now thinking.\n",
      "5th finishes eating and now thinking.\n",
      "4th starts eating \n",
      "4th finishes eating and now thinking.\n"
     ]
    }
   ],
   "source": [
    "import threading\n",
    "import random\n",
    "import time\n",
    "\n",
    "class DiningPhilosopher(threading.Thread):\n",
    "\n",
    "    running = True\n",
    "\n",
    "    def __init__(self, xname, Leftfork, Rightfork):\n",
    "        threading.Thread.__init__(self)\n",
    "        self.name = xname\n",
    "        self.Leftfork = Leftfork\n",
    "        self.Rightfork = Rightfork\n",
    "\n",
    "    def run(self):\n",
    "        while(self.running):\n",
    "            time.sleep( random.uniform(3,13))\n",
    "            print ('%s is hungry.' % self.name)\n",
    "            self.dine()\n",
    "\n",
    "    def dine(self):\n",
    "        fork1, fork2 = self.Leftfork, self.Rightfork\n",
    "\n",
    "        while self.running:\n",
    "            fork1.acquire(True)\n",
    "            locked = fork2.acquire(False)\n",
    "            if locked: break\n",
    "            fork1.release()\n",
    "            print ('%s swaps forks' % self.name)\n",
    "            fork1, fork2 = fork2, fork1\n",
    "        else:\n",
    "            return\n",
    "\n",
    "        self.dining()\n",
    "        fork2.release()\n",
    "        fork1.release()\n",
    "\n",
    "    def dining(self):\n",
    "        print ('%s starts eating '% self.name)\n",
    "        time.sleep(random.uniform(1,10))\n",
    "        print ('%s finishes eating and now thinking.' % self.name)\n",
    "\n",
    "def Dining_Philosophers():\n",
    "    forks = [threading.Lock() for n in range(5)]\n",
    "    philosopherNames = ('1st','2nd','3rd','4th', '5th')\n",
    "\n",
    "    philosophers= [DiningPhilosopher(philosopherNames[i], forks[i%5], forks[(i+1)%5]) \\\n",
    "       for i in range(5)]\n",
    "\n",
    "    random.seed()\n",
    "    DiningPhilosopher.running = True\n",
    "    for p in philosophers: p.start()\n",
    "    time.sleep(30)\n",
    "    DiningPhilosopher.running = False\n",
    "    print (\" It is finishing.\")\n",
    "\n",
    "Dining_Philosophers()"
   ]
  },
  {
   "cell_type": "code",
   "execution_count": null,
   "metadata": {},
   "outputs": [],
   "source": []
  }
 ],
 "metadata": {
  "kernelspec": {
   "display_name": "Python 3",
   "language": "python",
   "name": "python3"
  },
  "language_info": {
   "codemirror_mode": {
    "name": "ipython",
    "version": 3
   },
   "file_extension": ".py",
   "mimetype": "text/x-python",
   "name": "python",
   "nbconvert_exporter": "python",
   "pygments_lexer": "ipython3",
   "version": "3.7.3"
  }
 },
 "nbformat": 4,
 "nbformat_minor": 4
}
